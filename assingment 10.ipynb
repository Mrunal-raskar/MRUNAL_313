{
 "cells": [
  {
   "cell_type": "markdown",
   "metadata": {
    "id": "iiomo2JZF4xk"
   },
   "source": [
    "# Assignment\n",
    "\n"
   ]
  },
  {
   "cell_type": "markdown",
   "metadata": {},
   "source": [
    "## A few basic exercises\n",
    "### Variable Assignment\n",
    "* Try a program to display your name using a variable\n",
    "* Try changing that variable in code itself to something else\n",
    "* Try assiging one variable to other and changing one's value\n"
   ]
  },
  {
   "cell_type": "code",
   "execution_count": 4,
   "metadata": {},
   "outputs": [
    {
     "name": "stdout",
     "output_type": "stream",
     "text": [
      "Mrunal\n",
      "30\n",
      "Raskar\n"
     ]
    }
   ],
   "source": [
    "a= \"Mrunal\"\n",
    "b= \"Raskar\"\n",
    "\n",
    "print(a)\n",
    "\n",
    "\n",
    "\n",
    "a=30\n",
    "print(a)\n",
    "\n",
    "\n",
    "a=b\n",
    "print(a)"
   ]
  },
  {
   "cell_type": "markdown",
   "metadata": {},
   "source": [
    "### Multiple Assignment\n",
    "\n",
    "* Try Reversing the assignements i.e. new a should be 3, b should be 2 and c should be 1"
   ]
  },
  {
   "cell_type": "code",
   "execution_count": 5,
   "metadata": {},
   "outputs": [
    {
     "name": "stdout",
     "output_type": "stream",
     "text": [
      "3 2 1\n"
     ]
    }
   ],
   "source": [
    "a,b,c = 1,2,3\n",
    "\n",
    "\n",
    "a,b,c=c,b,a\n",
    "\n",
    "print(a,b,c)"
   ]
  },
  {
   "cell_type": "markdown",
   "metadata": {},
   "source": [
    "### String\n",
    "\n",
    "* Try reversing string in one line as compared to conventional loops\n"
   ]
  },
  {
   "cell_type": "code",
   "execution_count": 7,
   "metadata": {},
   "outputs": [
    {
     "data": {
      "text/plain": [
       "'!tset a si sihT'"
      ]
     },
     "execution_count": 7,
     "metadata": {},
     "output_type": "execute_result"
    }
   ],
   "source": [
    "string=\"This is a test!\"\n",
    "\n",
    "\n",
    "\n",
    "string[::-1]\n",
    "\n",
    "\n"
   ]
  },
  {
   "cell_type": "markdown",
   "metadata": {
    "id": "QMpTD6PQzkHZ"
   },
   "source": [
    "# Operators"
   ]
  },
  {
   "cell_type": "markdown",
   "metadata": {
    "id": "jBP8kRW4z2lv"
   },
   "source": [
    "You are provided with a list of Clubs in VJTI:\n",
    "clubs = ['SRA' , 'Aero' , 'Racing' , 'DSC' , 'COC']\n",
    "And a list of clubs you are a member of:\n",
    "membership= ['SRA' , 'DSC']\n",
    "\n",
    "You have to perform the following tasks:\n",
    "\n",
    "1.   Create a boolean list respective to the clubs you are a member of without using the '==' operator:\n",
    "Expected output: [true,false,false,true,false] HINT: use the membership operator\n",
    "\n",
    "2.   Convert the boolean list into a list of binary one or zero without using the operator '=='. Expected output: [1,0,0,1,0]\n",
    "HINT: Check out identity operator"
   ]
  },
  {
   "cell_type": "code",
   "execution_count": 14,
   "metadata": {
    "id": "hWE8HMmFzy8j"
   },
   "outputs": [
    {
     "name": "stdout",
     "output_type": "stream",
     "text": [
      "[(True,), (False,), (False,), (True,), False]\n",
      "[1, 0, 0, 1, 0]\n"
     ]
    }
   ],
   "source": [
    "clubs = ['SRA' , 'Aero' , 'Racing' , 'DSC' , 'COC'] \n",
    "membership= ['SRA' , 'DSC']\n",
    "x=(clubs [0]in membership),\n",
    "y=(clubs [1] in membership),\n",
    "z=(clubs [2] in membership),\n",
    "w=(clubs [3] in membership),\n",
    "v=(clubs [4] in membership)\n",
    "list=[x,y,z,w,v]\n",
    "print(list)\n",
    "\n",
    "list=[(x and 1),(0 and y),(0 and z),(w and 1),(0 and v)]\n",
    "print(list)"
   ]
  },
  {
   "cell_type": "markdown",
   "metadata": {
    "id": "LTbYqBpx2W8h"
   },
   "source": [
    "You are provided with the following:\n",
    "expression = 4_6_9_3_23_19\n",
    "Using the operators: +,-,*, /, % in places of the _ make an expression that reads the value: 25.0."
   ]
  },
  {
   "cell_type": "code",
   "execution_count": null,
   "metadata": {
    "id": "mKaJrL6w3oR3"
   },
   "outputs": [],
   "source": [
    "expression = 4_6_9_3_23_19 \n",
    "print(expression)\n",
    "\n",
    "# write your code here\n"
   ]
  },
  {
   "cell_type": "markdown",
   "metadata": {
    "id": "gaciSf_w3wdN"
   },
   "source": [
    "# Control Statements"
   ]
  },
  {
   "cell_type": "markdown",
   "metadata": {
    "id": "C3wLYw-Y32Ap"
   },
   "source": [
    "Complete the for loop such that whenever there is an prime number it prints the number plus \"I was a prime\" in the same line, otherwise it prints nothing.  \n",
    "\n",
    "\n",
    "Using the looping statement and the control statements  \n",
    "\n"
   ]
  },
  {
   "cell_type": "code",
   "execution_count": 15,
   "metadata": {
    "id": "9O0v4M2C5CAq"
   },
   "outputs": [
    {
     "name": "stdout",
     "output_type": "stream",
     "text": [
      "Prime number between 0 and 100 are:\n",
      "2 i was a prime.\n",
      "3 i was a prime.\n",
      "5 i was a prime.\n",
      "7 i was a prime.\n",
      "11 i was a prime.\n",
      "13 i was a prime.\n",
      "17 i was a prime.\n",
      "19 i was a prime.\n",
      "23 i was a prime.\n",
      "29 i was a prime.\n",
      "31 i was a prime.\n",
      "37 i was a prime.\n",
      "41 i was a prime.\n",
      "43 i was a prime.\n",
      "47 i was a prime.\n",
      "53 i was a prime.\n",
      "59 i was a prime.\n",
      "61 i was a prime.\n",
      "67 i was a prime.\n",
      "71 i was a prime.\n",
      "73 i was a prime.\n",
      "79 i was a prime.\n",
      "83 i was a prime.\n",
      "89 i was a prime.\n",
      "97 i was a prime.\n"
     ]
    }
   ],
   "source": [
    "lower=0\n",
    "upper=100\n",
    "print(\"Prime number between\",lower,\"and\",upper,\"are:\")\n",
    "for num in range(lower,upper):\n",
    "    if num>1:\n",
    "        for i in range(2,num):\n",
    "            if (num %i)==0:\n",
    "                break\n",
    "        else:print(num,\"i was a prime.\")"
   ]
  },
  {
   "cell_type": "markdown",
   "metadata": {
    "id": "-_wYEMJPS3pq"
   },
   "source": [
    "# Lists"
   ]
  },
  {
   "cell_type": "markdown",
   "metadata": {
    "id": "-ZdE30HvLh2G"
   },
   "source": [
    "Write a Python program to count the number of strings where the string length is 2 or more and the first and last character are same from a given list of strings. Go to the editor  \n",
    "**Sample Input** :['abc', 'xyz', 'aba', '1221']   \n",
    "**Sample Output** :2  \n",
    "**Explanation** :'aba' and '1221' have length greater than 2 and also has matching first and last character.   "
   ]
  },
  {
   "cell_type": "code",
   "execution_count": 16,
   "metadata": {
    "id": "Xk1x-6zrSpYo"
   },
   "outputs": [
    {
     "name": "stdout",
     "output_type": "stream",
     "text": [
      "2\n"
     ]
    }
   ],
   "source": [
    "list1 = ['abc','xyz','aba','1221']\n",
    "# Write your code here\n",
    "n=0\n",
    "i=0\n",
    "for i in range(4):\n",
    "    string = list1[i]\n",
    "    x=string[0]\n",
    "    y=string[-1]\n",
    "    if x==y :\n",
    "        n=n+1\n",
    "    else:\n",
    "        continue\n",
    "print(n)"
   ]
  },
  {
   "cell_type": "markdown",
   "metadata": {
    "id": "PFEX3PKtSwj3"
   },
   "source": [
    "Write a Python program to print the numbers of a specified list after removing even numbers from it.  \n",
    "**Hint** : Use List Comprehension"
   ]
  },
  {
   "cell_type": "code",
   "execution_count": 17,
   "metadata": {
    "id": "csR4tZzLVXTq"
   },
   "outputs": [
    {
     "name": "stdout",
     "output_type": "stream",
     "text": [
      "[5, 11, 21, 39, 33, 53]\n"
     ]
    }
   ],
   "source": [
    "# Write your code here\n",
    "list1=[2,4,5,11,14,21,39,42,50,33,53]\n",
    "list2=[i for i in list1 if i%2!=0]\n",
    "print(list2)"
   ]
  },
  {
   "cell_type": "markdown",
   "metadata": {
    "id": "P3dm0udUVcmB"
   },
   "source": [
    "# Dictionaries"
   ]
  },
  {
   "cell_type": "markdown",
   "metadata": {
    "id": "7pZi-gqWVhpy"
   },
   "source": [
    "Delete set of keys (keysToRemove) from a dictionary and display the resultant dictionary  \n",
    "**Given** :"
   ]
  },
  {
   "cell_type": "markdown",
   "metadata": {
    "id": "Z8gkalnDXoo1"
   },
   "source": [
    "**Expected Output**:"
   ]
  },
  {
   "cell_type": "markdown",
   "metadata": {
    "id": "Q-_5I8sjXsWH"
   },
   "source": [
    "{'city': 'New york', 'age': 25}"
   ]
  },
  {
   "cell_type": "code",
   "execution_count": 20,
   "metadata": {
    "id": "Z8zSdTdBZpMr"
   },
   "outputs": [
    {
     "data": {
      "text/plain": [
       "{'age': 25, 'city': 'New york'}"
      ]
     },
     "execution_count": 20,
     "metadata": {},
     "output_type": "execute_result"
    }
   ],
   "source": [
    "# Given Dictionary\n",
    "sampleDict = {\n",
    "  \"name\": \"Kelly\",\n",
    "  \"age\":25,\n",
    "  \"salary\": 8000,\n",
    "  \"city\": \"New york\"\n",
    "  \n",
    "}\n",
    "\n",
    "# remove the keys present in the list below from the dictionary \n",
    "keysToRemove = [\"name\", \"salary\"]\n",
    "\n",
    "# Write your code here\n",
    "value=sampleDict.pop('name')\n",
    "value=sampleDict.pop('salary')\n",
    "sampleDict"
   ]
  },
  {
   "cell_type": "markdown",
   "metadata": {
    "id": "rV5O1kFoXvY4"
   },
   "source": [
    "Write a program in Python to read the admission number, name of student and his/her stream of 10 students and create a dictionary from this information. print the dictionary "
   ]
  },
  {
   "cell_type": "code",
   "execution_count": 29,
   "metadata": {
    "id": "y9-SY12sY0_7",
    "scrolled": true
   },
   "outputs": [
    {
     "name": "stdout",
     "output_type": "stream",
     "text": [
      "Enter number of students:10\n",
      "Enter details of student No. 1\n",
      "roll No:101\n",
      "name:A\n",
      "stream:science\n",
      "{101: ['A', 'science']}\n",
      "Enter details of student No. 2\n",
      "roll No:102\n",
      "name:B\n",
      "stream:commerce\n",
      "{101: ['A', 'science'], 102: ['B', 'commerce']}\n",
      "Enter details of student No. 3\n",
      "roll No:103\n",
      "name:C\n",
      "stream:arts\n",
      "{101: ['A', 'science'], 102: ['B', 'commerce'], 103: ['C', 'arts']}\n",
      "Enter details of student No. 4\n",
      "roll No:104\n",
      "name:D\n",
      "stream:science\n",
      "{101: ['A', 'science'], 102: ['B', 'commerce'], 103: ['C', 'arts'], 104: ['D', 'science']}\n",
      "Enter details of student No. 5\n",
      "roll No:105\n",
      "name:E\n",
      "stream:commerce\n",
      "{101: ['A', 'science'], 102: ['B', 'commerce'], 103: ['C', 'arts'], 104: ['D', 'science'], 105: ['E', 'commerce']}\n",
      "Enter details of student No. 6\n",
      "roll No:106\n",
      "name:F\n",
      "stream:arts\n",
      "{101: ['A', 'science'], 102: ['B', 'commerce'], 103: ['C', 'arts'], 104: ['D', 'science'], 105: ['E', 'commerce'], 106: ['F', 'arts']}\n",
      "Enter details of student No. 7\n",
      "roll No:107\n",
      "name:G\n",
      "stream:science\n",
      "{101: ['A', 'science'], 102: ['B', 'commerce'], 103: ['C', 'arts'], 104: ['D', 'science'], 105: ['E', 'commerce'], 106: ['F', 'arts'], 107: ['G', 'science']}\n",
      "Enter details of student No. 8\n",
      "roll No:108\n",
      "name:H\n",
      "stream:commerce\n",
      "{101: ['A', 'science'], 102: ['B', 'commerce'], 103: ['C', 'arts'], 104: ['D', 'science'], 105: ['E', 'commerce'], 106: ['F', 'arts'], 107: ['G', 'science'], 108: ['H', 'commerce']}\n",
      "Enter details of student No. 9\n",
      "roll No:109\n",
      "name:I\n",
      "stream:arts\n",
      "{101: ['A', 'science'], 102: ['B', 'commerce'], 103: ['C', 'arts'], 104: ['D', 'science'], 105: ['E', 'commerce'], 106: ['F', 'arts'], 107: ['G', 'science'], 108: ['H', 'commerce'], 109: ['I', 'arts']}\n",
      "Enter details of student No. 10\n",
      "roll No:110\n",
      "name:J\n",
      "stream:science\n",
      "{101: ['A', 'science'], 102: ['B', 'commerce'], 103: ['C', 'arts'], 104: ['D', 'science'], 105: ['E', 'commerce'], 106: ['F', 'arts'], 107: ['G', 'science'], 108: ['H', 'commerce'], 109: ['I', 'arts'], 110: ['J', 'science']}\n"
     ]
    }
   ],
   "source": [
    "# Write your code here\n",
    "\n",
    "n=int(input(\"Enter number of students:\"))\n",
    "student_Dict={}\n",
    "for i in range (n):\n",
    "    print(\"Enter details of student No.\",i+1)\n",
    "    rno=int(input(\"roll No:\"))\n",
    "    name=input(\"name:\")\n",
    "    stream=input(\"stream:\")\n",
    "    student_Dict[rno]=[name,stream]\n",
    "    print(student_Dict)\n",
    "    \n",
    "    "
   ]
  },
  {
   "cell_type": "markdown",
   "metadata": {
    "id": "jBT1hgBV4J_k"
   },
   "source": [
    "# Sets and Tuples"
   ]
  },
  {
   "cell_type": "markdown",
   "metadata": {
    "id": "aO3KNdm74kIC"
   },
   "source": [
    "Check if two sets have any elements in common. If yes, display the common elements.\n",
    "\n",
    "set1 = {10, 20, 30, 40, 50}\n",
    "\n",
    "set2 = {60, 70, 80, 90, 10}\n",
    "\n",
    "\n",
    "**Expected output:**\n",
    "\n",
    "Two sets have items in common\n",
    "\n",
    "{10}"
   ]
  },
  {
   "cell_type": "code",
   "execution_count": 36,
   "metadata": {
    "id": "TiXKBh1p4UUe"
   },
   "outputs": [
    {
     "name": "stdout",
     "output_type": "stream",
     "text": [
      "Two sets have items in comman {10}\n"
     ]
    }
   ],
   "source": [
    "set1 = {10, 20, 30, 40, 50}\n",
    "set2 = {60, 70, 80, 90, 10}\n",
    "\n",
    "# Write your code here to get common elements among them\n",
    "for i in (set1):\n",
    "    for j in (set2):\n",
    "        if i==j:\n",
    "            print(\"Two sets have items in comman\",{i})\n",
    "                 \n",
    "                   \n",
    "    \n",
    "        "
   ]
  },
  {
   "cell_type": "markdown",
   "metadata": {
    "id": "CEKFqNN05nNS"
   },
   "source": [
    "Write a Python program to replace last value of tuples in a list.\n",
    "\n",
    "**Sample list:** [(10, 20, 40), (40, 50, 60), (70, 80, 90)]\n",
    "\n",
    "**Expected Output:** [(10, 20, 100), (40, 50, 100), (70, 80, 100)]"
   ]
  },
  {
   "cell_type": "code",
   "execution_count": 38,
   "metadata": {
    "id": "e9v1bRDU4tyC"
   },
   "outputs": [
    {
     "name": "stdout",
     "output_type": "stream",
     "text": [
      "[(10, 20, 100), (40, 50, 100), (70, 80, 100)]\n"
     ]
    }
   ],
   "source": [
    "list1 = [(10, 20, 40), (40, 50, 60), (70, 80, 90)]\n",
    "\n",
    "# Write your code here to replace last value of tuples in the list\n",
    "list2=[t[:-1] + (100,) for t in list1 ]\n",
    "print(list2)"
   ]
  },
  {
   "cell_type": "markdown",
   "metadata": {
    "id": "DwM6tKlaIlhO"
   },
   "source": [
    "## Functions"
   ]
  },
  {
   "cell_type": "markdown",
   "metadata": {
    "id": "zrFBbZ48Ivqy"
   },
   "source": [
    "1) Write a function called ```showNumbers``` that takes a parameter called limit. It should print all the numbers between 0 and limit with a label to identify the even and odd numbers. For example, if the limit is 3, it should print:\n",
    "* 0 EVEN\n",
    "* 1 ODD\n",
    "* 2 EVEN\n",
    "* 3 ODD\n"
   ]
  },
  {
   "cell_type": "code",
   "execution_count": 45,
   "metadata": {
    "id": "eo2hNDAkIue-"
   },
   "outputs": [
    {
     "name": "stdout",
     "output_type": "stream",
     "text": [
      "0 EVEN\n",
      "1 ODD\n",
      "2 EVEN\n",
      "3 ODD\n",
      "None\n"
     ]
    }
   ],
   "source": [
    "# Write Your code here\n",
    "def shownumber(limit):\n",
    "    for i in range(0,limit):\n",
    "        if i%2==0:\n",
    "            print(i,\"EVEN\")\n",
    "        else:\n",
    "            print(i,\"ODD\")\n",
    "print(shownumber(4))\n"
   ]
  },
  {
   "cell_type": "markdown",
   "metadata": {
    "id": "0olNjioRJezU"
   },
   "source": [
    "2) Write a function that takes limit(integer) as a paramter and prints all the prime numbers between 0 and limit.\n",
    "\n",
    "\n"
   ]
  },
  {
   "cell_type": "code",
   "execution_count": 54,
   "metadata": {
    "id": "707mKltkJoyY"
   },
   "outputs": [
    {
     "name": "stdout",
     "output_type": "stream",
     "text": [
      "Prime number between 0 and 100 are:\n",
      "2\n",
      "3\n",
      "5\n",
      "7\n",
      "11\n",
      "13\n",
      "17\n",
      "19\n",
      "23\n",
      "29\n",
      "31\n",
      "37\n",
      "41\n",
      "43\n",
      "47\n",
      "53\n",
      "59\n",
      "61\n",
      "67\n",
      "71\n",
      "73\n",
      "79\n",
      "83\n",
      "89\n",
      "97\n",
      "None\n"
     ]
    }
   ],
   "source": [
    "# Write your code here\n",
    "def shownumber(limit):\n",
    "    lower=0\n",
    "    upper=100\n",
    "    print(\"Prime number between\",lower,\"and\",upper,\"are:\")\n",
    "    for num in range(lower,upper+1):\n",
    "        if num>1:\n",
    "            for i in range (2,num):\n",
    "                if (num % i)==0:\n",
    "                    break\n",
    "            else:print(num)\n",
    "print(shownumber(10))\n",
    "    \n",
    "    \n"
   ]
  },
  {
   "cell_type": "markdown",
   "metadata": {
    "id": "Drl7IbTFIBhf"
   },
   "source": [
    "# Classes and Objects"
   ]
  },
  {
   "cell_type": "markdown",
   "metadata": {
    "id": "njc5QPZeJlN7"
   },
   "source": [
    "Write a Python Program to create a class named **Student**. \n",
    "- It should be initialised with attributes like **name, age, rollno, favourite subject**(a single subject).\n",
    "\n",
    "- Write a class method **getDetails()** which prints the name, age and rollno of the object in the below format.\n",
    " \n",
    "  * **Expected Output Format**\n",
    "> Name   : <em>name</em></br>\n",
    "> Age    : <em>age</em></br>\n",
    "> RollNo : <em>rollno</em></br>\n",
    "\n",
    "  * **Expected Example Output**\n",
    "> Name : Gautam</br>\n",
    "Age : 20</br>\n",
    "RollNo : 68\n",
    "\n",
    "- Now, there is a list **fav_list** such that it contains a list of subjects which are favourite to the Principal.\n",
    "\n",
    "  ``` python\n",
    "    fav_list = [\"EG\",\"Mechanics\",\"Chemistry\"]\n",
    "  ``` \n",
    "- You have to write a class Method **isFav()** which returns a boolean value i.e either <em>**true**</em> if any of the favourite subject of the principal matches with that of the student. Think of some suitable logic here.\n",
    "\n",
    "- Create 2 objects of class **Student** with attributes of your choice taken via user input.\n",
    "\n",
    "- Call Both the methods for both the objects. **Note** - Print the result of the **isFav()** method.\n",
    "\n",
    "- **Bonus Task** - Write the body of **isFav()** method in just one line."
   ]
  },
  {
   "cell_type": "code",
   "execution_count": 57,
   "metadata": {
    "id": "hWPxBx0fIOWp"
   },
   "outputs": [
    {
     "name": "stdout",
     "output_type": "stream",
     "text": [
      "Name: mrunal\n",
      "age: 18\n",
      "Favorite subject: EG\n",
      "True\n",
      "enter name:\n",
      "saloni\n",
      "enter age:\n",
      "16\n",
      "enter favorite subject:\n",
      "science\n",
      "Name: saloni\n",
      "age: 16\n",
      "Favorite subject: science\n",
      "False\n"
     ]
    }
   ],
   "source": [
    "# Write your code here \n",
    "class students():\n",
    "    def __init__(self):\n",
    "        self.name =\"mrunal\"\n",
    "        self.age =18\n",
    "        self.favsub =\"EG\"\n",
    "        self.fav_list =[\"EG\",\"Mechanics\",\"Chemistry\"]\n",
    "        \n",
    "    def getDetails(d):\n",
    "        print(\"Name:\", d.name)\n",
    "        print(\"age:\", d.age)\n",
    "        print(\"Favorite subject:\",d.favsub)\n",
    "    def isFav(e):\n",
    "        print(e.favsub in e.fav_list)\n",
    "s = students()\n",
    "s1 = students()\n",
    "s.getDetails()\n",
    "s.isFav()\n",
    "s1.name=str(input(\"enter name:\\n\"))\n",
    "s1.age=int(input(\"enter age:\\n\"))\n",
    "s1.favsub=str(input(\"enter favorite subject:\\n\"))\n",
    "s1.getDetails()\n",
    "s1.isFav()"
   ]
  },
  {
   "cell_type": "code",
   "execution_count": null,
   "metadata": {},
   "outputs": [],
   "source": []
  }
 ],
 "metadata": {
  "colab": {
   "collapsed_sections": [],
   "name": "Python_Pixels_seminar",
   "provenance": [],
   "toc_visible": true
  },
  "kernelspec": {
   "display_name": "Python 3",
   "language": "python",
   "name": "python3"
  },
  "language_info": {
   "codemirror_mode": {
    "name": "ipython",
    "version": 3
   },
   "file_extension": ".py",
   "mimetype": "text/x-python",
   "name": "python",
   "nbconvert_exporter": "python",
   "pygments_lexer": "ipython3",
   "version": "3.9.4"
  }
 },
 "nbformat": 4,
 "nbformat_minor": 1
}
